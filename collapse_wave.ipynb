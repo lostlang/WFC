{
 "cells": [
  {
   "cell_type": "code",
   "execution_count": 1,
   "metadata": {},
   "outputs": [],
   "source": [
    "from PIL import Image\n",
    "import numpy\n",
    "import matplotlib.pyplot as plt\n",
    "import math"
   ]
  },
  {
   "cell_type": "code",
   "execution_count": 2,
   "metadata": {},
   "outputs": [],
   "source": [
    "#Tile setings\n",
    "name_image = \"data\\mini2.png\"\n",
    "first_image = Image.open(name_image)\n",
    "scale = 10\n",
    "step_im = 3\n",
    "lpr = 0\n",
    "tpb = 1\n",
    "\n",
    "#New image setings\n",
    "name = \"NewImage{}.png\"\n",
    "size = [50, 200] # y, x\n",
    "startpix = [math.floor(step_im / 2), size[0] - math.ceil(step_im / 2)] # y, x\n",
    "old_map_start = [0, first_image.size[1] - step_im]"
   ]
  },
  {
   "cell_type": "code",
   "execution_count": 3,
   "metadata": {},
   "outputs": [],
   "source": [
    "class AvalibleTile:\n",
    "    def __init__(self, tile):\n",
    "        self.at = list(range(tile))\n",
    "    \n",
    "    def deleteAT(self, tile):\n",
    "        self.at.remove(tile)\n",
    "    \n",
    "    def clearAT(self, tile):\n",
    "        self.at = [tile]"
   ]
  },
  {
   "cell_type": "code",
   "execution_count": 4,
   "metadata": {},
   "outputs": [
    {
     "name": "stdout",
     "output_type": "stream",
     "text": [
      "(5, 5)\n"
     ]
    },
    {
     "data": {
      "image/png": "[encoded data removed]",
      "text/plain": [
       "<Figure size 720x720 with 1 Axes>"
      ]
     },
     "metadata": {},
     "output_type": "display_data"
    }
   ],
   "source": [
    "plt.figure(figsize=(scale, scale))\n",
    "for i in range(1):\n",
    "    plt.xticks([])\n",
    "    plt.yticks([])\n",
    "    plt.imshow(first_image)\n",
    "print(first_image.size)"
   ]
  },
  {
   "cell_type": "code",
   "execution_count": 5,
   "metadata": {},
   "outputs": [
    {
     "name": "stdout",
     "output_type": "stream",
     "text": [
      "92\n"
     ]
    }
   ],
   "source": [
    "mass_crop_periods = numpy.array([0] ,int)\n",
    "mass_crop = numpy.dtype(int)\n",
    "\n",
    "for i in range(first_image.size[1] - (step_im - 1) * tpb):\n",
    "    for i2 in range(first_image.size[0] - (step_im - 1) * lpr):\n",
    "        crop_im = first_image.crop((i2, i, (i2 + step_im), (i + step_im)))\n",
    "        im_array = numpy.array(crop_im, dtype=int)[:, :, 0:3]\n",
    "        # first part\n",
    "        if mass_crop is numpy.dtype(int):\n",
    "            mass_crop = numpy.array([im_array])\n",
    "        \n",
    "        # left + right\n",
    "        if i2 + step_im > first_image.size[0]:\n",
    "            mask_lp = numpy.zeros((step_im, first_image.size[0] - i2, 3) ,int)\n",
    "            crop_im = first_image.crop((0, i, i2 + step_im - first_image.size[0], (i + step_im)))\n",
    "            mask_lp = numpy.append(mask_lp, numpy.array(crop_im, dtype=int)[:, :, 0:3], 1)\n",
    "            im_array += mask_lp\n",
    "        # top + bottom\n",
    "        if i + step_im > first_image.size[1]:\n",
    "            mask_tp = numpy.zeros((first_image.size[1] - i, step_im , 3) ,int)\n",
    "            crop_im = first_image.crop((i2, 0, (i2 + step_im), i + step_im - first_image.size[1]))\n",
    "            mask_tp = numpy.append(mask_tp, numpy.array(crop_im, dtype=int)[:, :, 0:3], 0)\n",
    "            im_array += mask_tp\n",
    "        # t+b & l+r\n",
    "        # Дописать потом        \n",
    "        \n",
    "        # 0%\n",
    "        if not (mass_crop == im_array).all(-1).all(-1).all(-1).any():\n",
    "            mass_crop = numpy.append(mass_crop , [im_array], 0)\n",
    "            mass_crop_periods = numpy.append(mass_crop_periods, [1])\n",
    "        else:\n",
    "            mass_crop_periods[list((mass_crop == im_array).all(-1).all(-1).all(-1)).index(True)] += 1\n",
    "        # flip            \n",
    "        flip_im_array = numpy.flip(im_array, 0)\n",
    "        if not (mass_crop == flip_im_array).all(-1).all(-1).all(-1).any():\n",
    "            mass_crop = numpy.append(mass_crop , [flip_im_array], 0)\n",
    "            mass_crop_periods = numpy.append(mass_crop_periods, [1])\n",
    "        else:\n",
    "            mass_crop_periods[list((mass_crop == flip_im_array).all(-1).all(-1).all(-1)).index(True)] += 1\n",
    "        # 90%\n",
    "        im_array = numpy.rot90(im_array)\n",
    "        if not (mass_crop == im_array).all(-1).all(-1).all(-1).any():\n",
    "            mass_crop = numpy.append(mass_crop , [im_array], 0)\n",
    "            mass_crop_periods = numpy.append(mass_crop_periods, [1])\n",
    "        else:\n",
    "            mass_crop_periods[list((mass_crop == im_array).all(-1).all(-1).all(-1)).index(True)] += 1\n",
    "        # flip\n",
    "        flip_im_array = numpy.flip(im_array, 0)\n",
    "        if not (mass_crop == flip_im_array).all(-1).all(-1).all(-1).any():\n",
    "            mass_crop = numpy.append(mass_crop , [flip_im_array], 0)\n",
    "            mass_crop_periods = numpy.append(mass_crop_periods, [1])\n",
    "        else:\n",
    "            mass_crop_periods[list((mass_crop == flip_im_array).all(-1).all(-1).all(-1)).index(True)] += 1\n",
    "        # 180%\n",
    "        im_array = numpy.rot90(im_array)\n",
    "        if not (mass_crop == im_array).all(-1).all(-1).all(-1).any():\n",
    "            mass_crop = numpy.append(mass_crop , [im_array], 0)\n",
    "            mass_crop_periods = numpy.append(mass_crop_periods, [1])\n",
    "        else:\n",
    "            mass_crop_periods[list((mass_crop == im_array).all(-1).all(-1).all(-1)).index(True)] += 1\n",
    "        # flip\n",
    "        flip_im_array = numpy.flip(im_array, 0)\n",
    "        if not (mass_crop == flip_im_array).all(-1).all(-1).all(-1).any():\n",
    "            mass_crop = numpy.append(mass_crop , [flip_im_array], 0)\n",
    "            mass_crop_periods = numpy.append(mass_crop_periods, [1])\n",
    "        else:\n",
    "            mass_crop_periods[list((mass_crop == flip_im_array).all(-1).all(-1).all(-1)).index(True)] += 1\n",
    "        # 270%\n",
    "        im_array = numpy.rot90(im_array)\n",
    "        if not (mass_crop == im_array).all(-1).all(-1).all(-1).any():\n",
    "            mass_crop = numpy.append(mass_crop , [im_array], 0)\n",
    "            mass_crop_periods = numpy.append(mass_crop_periods, [1])\n",
    "        else:\n",
    "            mass_crop_periods[list((mass_crop == im_array).all(-1).all(-1).all(-1)).index(True)] += 1\n",
    "        # flip\n",
    "        flip_im_array = numpy.flip(im_array, 0)\n",
    "        if not (mass_crop == flip_im_array).all(-1).all(-1).all(-1).any():\n",
    "            mass_crop = numpy.append(mass_crop , [flip_im_array], 0)\n",
    "            mass_crop_periods = numpy.append(mass_crop_periods, [1])\n",
    "        else:\n",
    "            mass_crop_periods[list((mass_crop == flip_im_array).all(-1).all(-1).all(-1)).index(True)] += 1"
   ]
  },
  {
   "cell_type": "code",
   "execution_count": 7,
   "metadata": {},
   "outputs": [
    {
     "data": {
      "image/png": "[encoded data removed]",
      "text/plain": [
       "<Figure size 1440x1440 with 92 Axes>"
      ]
     },
     "metadata": {},
     "output_type": "display_data"
    }
   ],
   "source": [
    "plt.figure(figsize=(2*scale, 2*scale))\n",
    "for i in range(28*28):\n",
    "    if i == len(mass_crop):\n",
    "        break\n",
    "    plt.subplot(28, 28, i+1)\n",
    "    plt.xticks([])\n",
    "    plt.yticks([])\n",
    "    plt.imshow(mass_crop[i])"
   ]
  },
  {
   "cell_type": "code",
   "execution_count": 8,
   "metadata": {},
   "outputs": [],
   "source": [
    "new_image_array = numpy.zeros((size[0], size[1], 3), int)\n",
    "crop_im = first_image.crop((old_map_start[0], old_map_start[1], old_map_start[0] + step_im, old_map_start[1] + step_im))\n",
    "im_array = numpy.array(crop_im, dtype=int)[:, :, 0:3];\n",
    "index_tile = list((mass_crop == im_array).all(-1).all(-1).all(-1)).index(True)\n",
    "\n",
    "tale_map = [[AvalibleTile(len(mass_crop)) for i in range(size[0])] for i2 in range(size[1])]\n",
    "tale_map = numpy.array(tale_map)\n",
    "tale_map[startpix[0]][startpix[1]].clearAT(index_tile)\n"
   ]
  },
  {
   "cell_type": "code",
   "execution_count": 9,
   "metadata": {},
   "outputs": [],
   "source": [
    "# Painting\n",
    "for i in range(tale_map.shape[1]):\n",
    "    for i2 in range(tale_map.shape[0]):\n",
    "        new_image_array[i][i2] = mass_crop[tale_map[i2][i].at[0]][1][1]"
   ]
  },
  {
   "cell_type": "code",
   "execution_count": 10,
   "metadata": {},
   "outputs": [
    {
     "data": {
      "text/plain": [
       "<matplotlib.image.AxesImage at 0x1f5fbf31688>"
      ]
     },
     "execution_count": 10,
     "metadata": {},
     "output_type": "execute_result"
    },
    {
     "data": {
      "image/png": "[encoded data removed]",
      "text/plain": [
       "<Figure size 1440x1440 with 1 Axes>"
      ]
     },
     "metadata": {},
     "output_type": "display_data"
    }
   ],
   "source": [
    "plt.figure(figsize=(2*scale, 2*scale))\n",
    "plt.xticks([])\n",
    "plt.yticks([])\n",
    "plt.imshow(new_image_array)"
   ]
  },
  {
   "cell_type": "code",
   "execution_count": null,
   "metadata": {},
   "outputs": [],
   "source": []
  }
 ],
 "metadata": {
  "kernelspec": {
   "display_name": "Python 3",
   "language": "python",
   "name": "python3"
  },
  "language_info": {
   "codemirror_mode": {
    "name": "ipython",
    "version": 3
   },
   "file_extension": ".py",
   "mimetype": "text/x-python",
   "name": "python",
   "nbconvert_exporter": "python",
   "pygments_lexer": "ipython3",
   "version": "3.7.6"
  }
 },
 "nbformat": 4,
 "nbformat_minor": 4
}
