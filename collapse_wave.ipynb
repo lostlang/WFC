{
 "cells": [
  {
   "cell_type": "code",
   "execution_count": 53,
   "metadata": {},
   "outputs": [],
   "source": [
    "from PIL import Image\n",
    "import numpy\n",
    "import matplotlib.pyplot as plt\n",
    "import math\n",
    "import random"
   ]
  },
  {
   "cell_type": "code",
   "execution_count": 2,
   "metadata": {},
   "outputs": [],
   "source": [
    "#Tile setings\n",
    "name_image = \"data/mini.png\"\n",
    "first_image = Image.open(name_image)\n",
    "scale = 10\n",
    "step_im = 3\n",
    "lpr = 0\n",
    "tpb = 0\n",
    "\n",
    "#New image setings\n",
    "name = \"NewImage{}.png\"\n",
    "size = [50, 50] # y, x\n",
    "startpix = [math.floor(step_im / 2), size[0] - math.ceil(step_im / 2)] # y, x\n",
    "old_map_start = [0, first_image.size[1] - step_im]"
   ]
  },
  {
   "cell_type": "code",
   "execution_count": 3,
   "metadata": {},
   "outputs": [],
   "source": [
    "class AvalibleTile:\n",
    "    def __init__(self, tile):\n",
    "        self.at = list(range(tile))\n",
    "    \n",
    "    def deleteAT(self, tile):\n",
    "        self.at.remove(tile)\n",
    "    \n",
    "    def clearAT(self, tile):\n",
    "        self.at = [tile]"
   ]
  },
  {
   "cell_type": "code",
   "execution_count": 166,
   "metadata": {},
   "outputs": [],
   "source": [
    "class TileCouple:\n",
    "    def __init__(self, tiles):\n",
    "        self.tiles = tiles\n",
    "        self.tile_count = len(tiles)\n",
    "        self.tile_couple = {}\n",
    "    \n",
    "    def serch(self,\n",
    "              left_tile= -1,\n",
    "              right_tile= -1,\n",
    "              bottom_tile= -1,\n",
    "              top_tile= -1):\n",
    "        if (left_tile, right_tile, bottom_tile, top_tile) in self.tile_couple:\n",
    "            return self.tile_couple[(left_tile,\n",
    "                                     right_tile,\n",
    "                                     bottom_tile,\n",
    "                                     top_tile)]\n",
    "        else:\n",
    "            return self.append(left_tile,\n",
    "                        right_tile,\n",
    "                        bottom_tile,\n",
    "                        top_tile)\n",
    "    \n",
    "    def append(self,\n",
    "               left_tile= -1,\n",
    "               right_tile= -1,\n",
    "               bottom_tile= -1,\n",
    "               top_tile= -1):\n",
    "        if left_tile != -1 and right_tile != -1 and bottom_tile != -1 and top_tile != -1:\n",
    "            self.tile_couple[(left_tile,\n",
    "                              right_tile,\n",
    "                              bottom_tile,\n",
    "                              top_tile)] = [random.randrange(100)] # условие\n",
    "            return self.tile_couple[(left_tile,\n",
    "                                     right_tile,\n",
    "                                     bottom_tile,\n",
    "                                     top_tile)]\n",
    "        else:\n",
    "            add_tile_left = []\n",
    "            add_tile_right = []\n",
    "            add_tile_bottom = []\n",
    "            add_tile_top = []\n",
    "            new_tile = []\n",
    "            for i in range(self.tile_count):\n",
    "                if left_tile == -1:\n",
    "                    add_tile_left += self.serch(i, right_tile, bottom_tile, top_tile)\n",
    "                elif right_tile == -1:\n",
    "                    add_tile_right += self.serch(left_tile, i, bottom_tile, top_tile)\n",
    "                elif bottom_tile == -1:\n",
    "                    add_tile_bottom  += self.serch(left_tile, right_tile, i, top_tile)\n",
    "                elif top_tile == -1:\n",
    "                    add_tile_top += self.serch(left_tile, right_tile, bottom_tile, i)\n",
    "\n",
    "            for i in add_tile_left:\n",
    "                if i not in new_tile:\n",
    "                    new_tile.append(i)\n",
    "            for i in add_tile_right:\n",
    "                if i not in new_tile:\n",
    "                    new_tile.append(i)\n",
    "            for i in add_tile_bottom:\n",
    "                if i not in new_tile:\n",
    "                    new_tile.append(i)\n",
    "            for i in add_tile_top:\n",
    "                if i not in new_tile:\n",
    "                    new_tile.append(i)\n",
    "            self.tile_couple[(left_tile,\n",
    "                              right_tile,\n",
    "                              bottom_tile,\n",
    "                              top_tile)] = new_tile\n",
    "            return new_tile\n",
    "            \n",
    "            \n",
    "    def outConection(self):\n",
    "        for i in self.tile_couple:\n",
    "            print(i, \":\", end=\" \")\n",
    "            for i2 in self.tile_couple[i]:\n",
    "                print(i2, end=\",\")\n",
    "            print()\n",
    "\n",
    "class Tile:\n",
    "    def __init__(self):\n",
    "        self.tile = []\n",
    "        self.tile_couple = []\n",
    "        self.tile.append(-1)\n",
    "        self.tile_couple.append([[0]])\n",
    "    \n",
    "    def append(self, tile_set,\n",
    "               left_tile= -1,\n",
    "               right_tile= -1,\n",
    "               bottom_tile= -1,\n",
    "               top_tile= -1):\n",
    "        pass"
   ]
  },
  {
   "cell_type": "code",
   "execution_count": 167,
   "metadata": {},
   "outputs": [],
   "source": [
    "my_couple = TileCouple(mass_crop)"
   ]
  },
  {
   "cell_type": "code",
   "execution_count": 168,
   "metadata": {
    "scrolled": true
   },
   "outputs": [
    {
     "name": "stdout",
     "output_type": "stream",
     "text": [
      "25\n"
     ]
    },
    {
     "data": {
      "text/plain": [
       "[47,\n",
       " 10,\n",
       " 6,\n",
       " 15,\n",
       " 22,\n",
       " 2,\n",
       " 95,\n",
       " 71,\n",
       " 97,\n",
       " 17,\n",
       " 42,\n",
       " 94,\n",
       " 51,\n",
       " 18,\n",
       " 87,\n",
       " 39,\n",
       " 54,\n",
       " 14,\n",
       " 58,\n",
       " 45,\n",
       " 91,\n",
       " 89,\n",
       " 76,\n",
       " 1,\n",
       " 88,\n",
       " 55,\n",
       " 44,\n",
       " 4,\n",
       " 11,\n",
       " 26,\n",
       " 23,\n",
       " 32,\n",
       " 5,\n",
       " 59,\n",
       " 8,\n",
       " 81,\n",
       " 52,\n",
       " 60,\n",
       " 86,\n",
       " 90,\n",
       " 85,\n",
       " 57,\n",
       " 50,\n",
       " 67,\n",
       " 98,\n",
       " 12,\n",
       " 35,\n",
       " 27,\n",
       " 3,\n",
       " 19,\n",
       " 63,\n",
       " 92,\n",
       " 16,\n",
       " 49,\n",
       " 29,\n",
       " 21,\n",
       " 68,\n",
       " 80,\n",
       " 84,\n",
       " 46,\n",
       " 65,\n",
       " 41,\n",
       " 62,\n",
       " 53,\n",
       " 70,\n",
       " 36,\n",
       " 72,\n",
       " 73,\n",
       " 48,\n",
       " 33,\n",
       " 75,\n",
       " 56,\n",
       " 9,\n",
       " 30,\n",
       " 66,\n",
       " 37,\n",
       " 78,\n",
       " 79,\n",
       " 99,\n",
       " 93,\n",
       " 20,\n",
       " 25,\n",
       " 83,\n",
       " 28,\n",
       " 64,\n",
       " 74,\n",
       " 61,\n",
       " 96,\n",
       " 24,\n",
       " 69,\n",
       " 31,\n",
       " 38,\n",
       " 40,\n",
       " 0,\n",
       " 7,\n",
       " 13,\n",
       " 77,\n",
       " 43,\n",
       " 34,\n",
       " 82]"
      ]
     },
     "execution_count": 168,
     "metadata": {},
     "output_type": "execute_result"
    }
   ],
   "source": [
    "print(my_couple.tile_count)\n",
    "my_couple.serch(-1, -1, -1, -1)\n",
    "\n"
   ]
  },
  {
   "cell_type": "code",
   "execution_count": 169,
   "metadata": {},
   "outputs": [
    {
     "data": {
      "text/plain": [
       "406901"
      ]
     },
     "execution_count": 169,
     "metadata": {},
     "output_type": "execute_result"
    }
   ],
   "source": [
    "len(my_couple.tile_couple)"
   ]
  },
  {
   "cell_type": "code",
   "execution_count": 7,
   "metadata": {},
   "outputs": [
    {
     "name": "stdout",
     "output_type": "stream",
     "text": [
      "(5, 5)\n"
     ]
    },
    {
     "data": {
      "image/png": "[encoded data removed]",
      "text/plain": [
       "<Figure size 720x720 with 1 Axes>"
      ]
     },
     "metadata": {},
     "output_type": "display_data"
    }
   ],
   "source": [
    "plt.figure(figsize=(scale, scale))\n",
    "for i in range(1):\n",
    "    plt.xticks([])\n",
    "    plt.yticks([])\n",
    "    plt.imshow(first_image)\n",
    "print(first_image.size)"
   ]
  },
  {
   "cell_type": "code",
   "execution_count": 11,
   "metadata": {},
   "outputs": [],
   "source": [
    "mass_crop_periods = numpy.array([0] ,int)\n",
    "mass_crop = numpy.dtype(int)\n",
    "\n",
    "for i in range(first_image.size[1] - (step_im - 1) * tpb):\n",
    "    for i2 in range(first_image.size[0] - (step_im - 1) * lpr):\n",
    "        crop_im = first_image.crop((i2, i, (i2 + step_im), (i + step_im)))\n",
    "        im_array = numpy.array(crop_im, dtype=int)[:, :, 0:3]\n",
    "        # first part\n",
    "        if mass_crop is numpy.dtype(int):\n",
    "            mass_crop = numpy.array([im_array])\n",
    "        \n",
    "        # left + right\n",
    "        if i2 + step_im > first_image.size[0]:\n",
    "            mask_lp = numpy.zeros((step_im, first_image.size[0] - i2, 3) ,int)\n",
    "            crop_im = first_image.crop((0, i, i2 + step_im - first_image.size[0], (i + step_im)))\n",
    "            mask_lp = numpy.append(mask_lp, numpy.array(crop_im, dtype=int)[:, :, 0:3], 1)\n",
    "            im_array += mask_lp\n",
    "        # top + bottom\n",
    "        if i + step_im > first_image.size[1]:\n",
    "            mask_tp = numpy.zeros((first_image.size[1] - i, step_im , 3) ,int)\n",
    "            crop_im = first_image.crop((i2, 0, (i2 + step_im), i + step_im - first_image.size[1]))\n",
    "            mask_tp = numpy.append(mask_tp, numpy.array(crop_im, dtype=int)[:, :, 0:3], 0)\n",
    "            im_array += mask_tp\n",
    "        # t+b & l+r\n",
    "        if i + step_im > first_image.size[1] and i2 + step_im > first_image.size[0]:\n",
    "            mask_lp = numpy.zeros((i + step_im - first_image.size[1], first_image.size[0] - i2, 3) ,int)\n",
    "            mask_tp = numpy.zeros((first_image.size[1] - i, step_im , 3) ,int)\n",
    "            crop_im = first_image.crop((0, 0, i2 + step_im - first_image.size[0], i + step_im - first_image.size[1]))\n",
    "            mask_lp = numpy.append(mask_lp, numpy.array(crop_im, dtype=int)[:, :, 0:3], 1)\n",
    "            mask_tp = numpy.append(mask_tp, mask_lp, 0)\n",
    "            im_array += mask_tp\n",
    "        \n",
    "        # 0%\n",
    "        if not (mass_crop == im_array).all(-1).all(-1).all(-1).any():\n",
    "            mass_crop = numpy.append(mass_crop , [im_array], 0)\n",
    "            mass_crop_periods = numpy.append(mass_crop_periods, [1])\n",
    "        else:\n",
    "            mass_crop_periods[list((mass_crop == im_array).all(-1).all(-1).all(-1)).index(True)] += 1\n",
    "        # flip            \n",
    "        flip_im_array = numpy.flip(im_array, 0)\n",
    "        if not (mass_crop == flip_im_array).all(-1).all(-1).all(-1).any():\n",
    "            mass_crop = numpy.append(mass_crop , [flip_im_array], 0)\n",
    "            mass_crop_periods = numpy.append(mass_crop_periods, [1])\n",
    "        else:\n",
    "            mass_crop_periods[list((mass_crop == flip_im_array).all(-1).all(-1).all(-1)).index(True)] += 1\n",
    "        # 90%\n",
    "        im_array = numpy.rot90(im_array)\n",
    "        if not (mass_crop == im_array).all(-1).all(-1).all(-1).any():\n",
    "            mass_crop = numpy.append(mass_crop , [im_array], 0)\n",
    "            mass_crop_periods = numpy.append(mass_crop_periods, [1])\n",
    "        else:\n",
    "            mass_crop_periods[list((mass_crop == im_array).all(-1).all(-1).all(-1)).index(True)] += 1\n",
    "        # flip\n",
    "        flip_im_array = numpy.flip(im_array, 0)\n",
    "        if not (mass_crop == flip_im_array).all(-1).all(-1).all(-1).any():\n",
    "            mass_crop = numpy.append(mass_crop , [flip_im_array], 0)\n",
    "            mass_crop_periods = numpy.append(mass_crop_periods, [1])\n",
    "        else:\n",
    "            mass_crop_periods[list((mass_crop == flip_im_array).all(-1).all(-1).all(-1)).index(True)] += 1\n",
    "        # 180%\n",
    "        im_array = numpy.rot90(im_array)\n",
    "        if not (mass_crop == im_array).all(-1).all(-1).all(-1).any():\n",
    "            mass_crop = numpy.append(mass_crop , [im_array], 0)\n",
    "            mass_crop_periods = numpy.append(mass_crop_periods, [1])\n",
    "        else:\n",
    "            mass_crop_periods[list((mass_crop == im_array).all(-1).all(-1).all(-1)).index(True)] += 1\n",
    "        # flip\n",
    "        flip_im_array = numpy.flip(im_array, 0)\n",
    "        if not (mass_crop == flip_im_array).all(-1).all(-1).all(-1).any():\n",
    "            mass_crop = numpy.append(mass_crop , [flip_im_array], 0)\n",
    "            mass_crop_periods = numpy.append(mass_crop_periods, [1])\n",
    "        else:\n",
    "            mass_crop_periods[list((mass_crop == flip_im_array).all(-1).all(-1).all(-1)).index(True)] += 1\n",
    "        # 270%\n",
    "        im_array = numpy.rot90(im_array)\n",
    "        if not (mass_crop == im_array).all(-1).all(-1).all(-1).any():\n",
    "            mass_crop = numpy.append(mass_crop , [im_array], 0)\n",
    "            mass_crop_periods = numpy.append(mass_crop_periods, [1])\n",
    "        else:\n",
    "            mass_crop_periods[list((mass_crop == im_array).all(-1).all(-1).all(-1)).index(True)] += 1\n",
    "        # flip\n",
    "        flip_im_array = numpy.flip(im_array, 0)\n",
    "        if not (mass_crop == flip_im_array).all(-1).all(-1).all(-1).any():\n",
    "            mass_crop = numpy.append(mass_crop , [flip_im_array], 0)\n",
    "            mass_crop_periods = numpy.append(mass_crop_periods, [1])\n",
    "        else:\n",
    "            mass_crop_periods[list((mass_crop == flip_im_array).all(-1).all(-1).all(-1)).index(True)] += 1"
   ]
  },
  {
   "cell_type": "code",
   "execution_count": 12,
   "metadata": {},
   "outputs": [
    {
     "data": {
      "image/png": "[encoded data removed]",
      "text/plain": [
       "<Figure size 1440x1440 with 25 Axes>"
      ]
     },
     "metadata": {},
     "output_type": "display_data"
    }
   ],
   "source": [
    "plt.figure(figsize=(2*scale, 2*scale))\n",
    "for i in range(28*28):\n",
    "    if i == len(mass_crop):\n",
    "        break\n",
    "    plt.subplot(28, 28, i+1)\n",
    "    plt.xticks([])\n",
    "    plt.yticks([])\n",
    "    plt.imshow(mass_crop[i])"
   ]
  },
  {
   "cell_type": "code",
   "execution_count": 13,
   "metadata": {},
   "outputs": [],
   "source": [
    "new_image_array = numpy.zeros((size[0], size[1], 3), int)\n",
    "crop_im = first_image.crop((old_map_start[0], old_map_start[1], old_map_start[0] + step_im, old_map_start[1] + step_im))\n",
    "im_array = numpy.array(crop_im, dtype=int)[:, :, 0:3];\n",
    "index_tile = list((mass_crop == im_array).all(-1).all(-1).all(-1)).index(True)\n",
    "\n",
    "tale_map = [[AvalibleTile(len(mass_crop)) for i in range(size[0])] for i2 in range(size[1])]\n",
    "tale_map = numpy.array(tale_map)\n",
    "tale_map[startpix[0]][startpix[1]].clearAT(index_tile)\n"
   ]
  },
  {
   "cell_type": "code",
   "execution_count": 14,
   "metadata": {},
   "outputs": [],
   "source": [
    "# Painting\n",
    "for i in range(tale_map.shape[1]):\n",
    "    for i2 in range(tale_map.shape[0]):\n",
    "        new_image_array[i][i2] = mass_crop[tale_map[i2][i].at[0]][1][1]"
   ]
  },
  {
   "cell_type": "code",
   "execution_count": 15,
   "metadata": {},
   "outputs": [
    {
     "data": {
      "text/plain": [
       "<matplotlib.image.AxesImage at 0x7f878bd3a790>"
      ]
     },
     "execution_count": 15,
     "metadata": {},
     "output_type": "execute_result"
    },
    {
     "data": {
      "image/png": "[encoded data removed]",
      "text/plain": [
       "<Figure size 720x720 with 1 Axes>"
      ]
     },
     "metadata": {},
     "output_type": "display_data"
    }
   ],
   "source": [
    "plt.figure(figsize=(scale, scale))\n",
    "plt.xticks([])\n",
    "plt.yticks([])\n",
    "plt.imshow(new_image_array)"
   ]
  },
  {
   "cell_type": "code",
   "execution_count": null,
   "metadata": {},
   "outputs": [],
   "source": []
  },
  {
   "cell_type": "code",
   "execution_count": null,
   "metadata": {},
   "outputs": [],
   "source": []
  }
 ],
 "metadata": {
  "kernelspec": {
   "display_name": "Python 3",
   "language": "python",
   "name": "python3"
  },
  "language_info": {
   "codemirror_mode": {
    "name": "ipython",
    "version": 3
   },
   "file_extension": ".py",
   "mimetype": "text/x-python",
   "name": "python",
   "nbconvert_exporter": "python",
   "pygments_lexer": "ipython3",
   "version": "3.7.6"
  }
 },
 "nbformat": 4,
 "nbformat_minor": 4
}
