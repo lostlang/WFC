{
 "cells": [
  {
   "cell_type": "code",
   "execution_count": 56,
   "metadata": {},
   "outputs": [],
   "source": [
    "from PIL import Image\n",
    "import numpy\n",
    "import matplotlib.pyplot as plt\n",
    "import random"
   ]
  },
  {
   "cell_type": "code",
   "execution_count": 57,
   "metadata": {},
   "outputs": [],
   "source": [
    "#Tile setings\n",
    "name_image = \"data/Maze.png\"\n",
    "first_image = Image.open(name_image)\n",
    "scale = 10\n",
    "step_im = 3\n",
    "lpr = 0\n",
    "tpb = 0\n",
    "\n",
    "#New image setings\n",
    "name = \"NewImage{}.png\"\n",
    "size = [50, 50] # y, x\n",
    "startpix = (step_im // 2, size[0] - (step_im + 1) // 2) # y, x\n",
    "old_map_start = [0, first_image.size[1] - step_im]"
   ]
  },
  {
   "cell_type": "code",
   "execution_count": 58,
   "metadata": {},
   "outputs": [
    {
     "ename": "SyntaxError",
     "evalue": "invalid syntax (<ipython-input-58-8c33698732b8>, line 25)",
     "output_type": "error",
     "traceback": [
      "\u001b[0;36m  File \u001b[0;32m\"<ipython-input-58-8c33698732b8>\"\u001b[0;36m, line \u001b[0;32m25\u001b[0m\n\u001b[0;31m    def\u001b[0m\n\u001b[0m        ^\u001b[0m\n\u001b[0;31mSyntaxError\u001b[0m\u001b[0;31m:\u001b[0m invalid syntax\n"
     ]
    }
   ],
   "source": [
    "def indexTile(np_array1,\n",
    "               np_array2):\n",
    "    return list((np_array1 == np_array2).all(-1).all(-1).all(-1)).index(True)\n",
    "\n",
    "def next_index(index, max_index, step):\n",
    "    if index + step == max_index:\n",
    "        return 0\n",
    "    elif index + step < 0:\n",
    "        return max_index - 1\n",
    "    else:\n",
    "        return index + step\n",
    "\n",
    "def step4(index_x, index_y,\n",
    "          max_index_x, max_index_y):\n",
    "    left_step = next_index(index_x, max_index_x, -1)\n",
    "    right_step = next_index(index_x, max_index_x, 1)\n",
    "    bottom_step = next_index(index_y, max_index_y, 1)\n",
    "    top_step = next_index(index_y, max_index_y, -1)\n",
    "    \n",
    "    return ((left_step, index_y),\n",
    "            (right_step, index_y),\n",
    "            (index_x, bottom_step),\n",
    "            (index_x, top_step))\n",
    "\n",
    "def "
   ]
  },
  {
   "cell_type": "code",
   "execution_count": 59,
   "metadata": {},
   "outputs": [],
   "source": [
    "class TileCouple:\n",
    "    def __init__(self, tiles):\n",
    "        self.tiles = tiles\n",
    "        self.tile_count = len(tiles)\n",
    "        self.tile_couple = {}\n",
    "    \n",
    "    def search(self,\n",
    "               left_tile = [-1],\n",
    "               right_tile = [-1],\n",
    "               bottom_tile = [-1],\n",
    "               top_tile = [-1]):\n",
    "        if (left_tile, right_tile, bottom_tile, top_tile) in self.tile_couple:\n",
    "            return self.tile_couple[(left_tile,\n",
    "                                     right_tile,\n",
    "                                     bottom_tile,\n",
    "                                     top_tile)]\n",
    "        else:\n",
    "            return self.append(left_tile,\n",
    "                               right_tile,\n",
    "                               bottom_tile,\n",
    "                               top_tile)\n",
    "    \n",
    "    def append(self,\n",
    "               left_tile = -1,\n",
    "               right_tile = -1,\n",
    "               bottom_tile = -1,\n",
    "               top_tile = -1):\n",
    "        mask_image = numpy.zeros(self.tiles.shape[1:], int)\n",
    "        patern_image = numpy.zeros(self.tiles.shape[1:], int)\n",
    "        index_conect = []\n",
    "        for i in range(mask_image.shape[0]):\n",
    "            for i2 in range(mask_image.shape[0]):\n",
    "                if left_tile != -1 and i2 < (mask_image.shape[0] + 1) // 2:\n",
    "                    mask_image[i, i2] = [1, 1, 1]\n",
    "                    patern_image[i, i2] = self.tiles[left_tile, i, i2 + 1]\n",
    "                if right_tile != -1 and i2 >= mask_image.shape[0] // 2:\n",
    "                    mask_image[i, i2] = [1, 1, 1]\n",
    "                    patern_image[i, i2] = self.tiles[right_tile, i, i2 - 1]\n",
    "                if bottom_tile != -1 and i >= mask_image.shape[0] // 2:\n",
    "                    mask_image[i, i2] = [1, 1, 1]\n",
    "                    patern_image[i, i2] = self.tiles[bottom_tile, i - 1, i2]\n",
    "                if top_tile != -1 and i < (mask_image.shape[0] + 1) // 2:\n",
    "                    mask_image[i, i2] = [1, 1, 1]\n",
    "                    patern_image[i, i2] = self.tiles[top_tile, i + 1, i2]\n",
    "        accept_index = (self.tiles * mask_image == patern_image).all(-1).all(-1).all(-1)\n",
    "        for i in range(self.tile_count):\n",
    "            if accept_index[i]:\n",
    "                index_conect.append(i)\n",
    "        if len(index_conect) == self.tile_count:\n",
    "            index_conect = [-1]\n",
    "        self.tile_couple[(left_tile,\n",
    "                          right_tile,\n",
    "                          bottom_tile,\n",
    "                          top_tile)] = index_conect\n",
    "        return index_conect"
   ]
  },
  {
   "cell_type": "code",
   "execution_count": 60,
   "metadata": {},
   "outputs": [],
   "source": [
    "class Tile:\n",
    "    def __init__(self):\n",
    "        self.tile = []\n",
    "        self.tile_couple = []\n",
    "        self.tile.append(-1)\n",
    "        self.tile_couple.append([[0]])\n",
    "    \n",
    "    def append(self, tile_set,\n",
    "               left_tile= -1,\n",
    "               right_tile= -1,\n",
    "               bottom_tile= -1,\n",
    "               top_tile= -1):\n",
    "        pass"
   ]
  },
  {
   "cell_type": "code",
   "execution_count": 61,
   "metadata": {},
   "outputs": [
    {
     "name": "stdout",
     "output_type": "stream",
     "text": [
      "(16, 16)\n"
     ]
    },
    {
     "data": {
      "image/png": "[encoded data removed]",
      "text/plain": [
       "<Figure size 720x720 with 1 Axes>"
      ]
     },
     "metadata": {},
     "output_type": "display_data"
    }
   ],
   "source": [
    "plt.figure(figsize=(scale, scale))\n",
    "for i in range(1):\n",
    "    plt.xticks([])\n",
    "    plt.yticks([])\n",
    "    plt.imshow(first_image)\n",
    "print(first_image.size)"
   ]
  },
  {
   "cell_type": "code",
   "execution_count": 62,
   "metadata": {},
   "outputs": [],
   "source": [
    "mass_crop_periods = numpy.array([0] ,int)\n",
    "mass_crop = numpy.dtype(int)\n",
    "\n",
    "for i in range(first_image.size[1] - (step_im - 1) * tpb):\n",
    "    for i2 in range(first_image.size[0] - (step_im - 1) * lpr):\n",
    "        crop_im = first_image.crop((i2, i, (i2 + step_im), (i + step_im)))\n",
    "        im_array = numpy.array(crop_im, dtype=int)[:, :, 0:3]\n",
    "        # first part\n",
    "        if mass_crop is numpy.dtype(int):\n",
    "            mass_crop = numpy.array([im_array])\n",
    "        \n",
    "        # left + right\n",
    "        if i2 + step_im > first_image.size[0]:\n",
    "            mask_lp = numpy.zeros((step_im, first_image.size[0] - i2, 3) ,int)\n",
    "            crop_im = first_image.crop((0, i, i2 + step_im - first_image.size[0], (i + step_im)))\n",
    "            mask_lp = numpy.append(mask_lp, numpy.array(crop_im, dtype=int)[:, :, 0:3], 1)\n",
    "            im_array += mask_lp\n",
    "        # top + bottom\n",
    "        if i + step_im > first_image.size[1]:\n",
    "            mask_tp = numpy.zeros((first_image.size[1] - i, step_im , 3) ,int)\n",
    "            crop_im = first_image.crop((i2, 0, (i2 + step_im), i + step_im - first_image.size[1]))\n",
    "            mask_tp = numpy.append(mask_tp, numpy.array(crop_im, dtype=int)[:, :, 0:3], 0)\n",
    "            im_array += mask_tp\n",
    "        # t+b & l+r\n",
    "        if i + step_im > first_image.size[1] and i2 + step_im > first_image.size[0]:\n",
    "            mask_lp = numpy.zeros((i + step_im - first_image.size[1], first_image.size[0] - i2, 3) ,int)\n",
    "            mask_tp = numpy.zeros((first_image.size[1] - i, step_im , 3) ,int)\n",
    "            crop_im = first_image.crop((0, 0, i2 + step_im - first_image.size[0], i + step_im - first_image.size[1]))\n",
    "            mask_lp = numpy.append(mask_lp, numpy.array(crop_im, dtype=int)[:, :, 0:3], 1)\n",
    "            mask_tp = numpy.append(mask_tp, mask_lp, 0)\n",
    "            im_array += mask_tp\n",
    "        \n",
    "        # 0%\n",
    "        if not (mass_crop == im_array).all(-1).all(-1).all(-1).any():\n",
    "            mass_crop = numpy.append(mass_crop , [im_array], 0)\n",
    "            mass_crop_periods = numpy.append(mass_crop_periods, [1])\n",
    "        else:\n",
    "            mass_crop_periods[indexTile(mass_crop, im_array)] += 1\n",
    "        # flip          \n",
    "        flip_im_array = numpy.flip(im_array, 0)\n",
    "        if not (mass_crop == flip_im_array).all(-1).all(-1).all(-1).any():\n",
    "            mass_crop = numpy.append(mass_crop , [flip_im_array], 0)\n",
    "            mass_crop_periods = numpy.append(mass_crop_periods, [1])\n",
    "        else:\n",
    "            mass_crop_periods[indexTile(mass_crop, flip_im_array)] += 1\n",
    "        # 90%\n",
    "        im_array = numpy.rot90(im_array)\n",
    "        if not (mass_crop == im_array).all(-1).all(-1).all(-1).any():\n",
    "            mass_crop = numpy.append(mass_crop , [im_array], 0)\n",
    "            mass_crop_periods = numpy.append(mass_crop_periods, [1])\n",
    "        else:\n",
    "            mass_crop_periods[indexTile(mass_crop, im_array)] += 1\n",
    "        # flip\n",
    "        flip_im_array = numpy.flip(im_array, 0)\n",
    "        if not (mass_crop == flip_im_array).all(-1).all(-1).all(-1).any():\n",
    "            mass_crop = numpy.append(mass_crop , [flip_im_array], 0)\n",
    "            mass_crop_periods = numpy.append(mass_crop_periods, [1])\n",
    "        else:\n",
    "            mass_crop_periods[indexTile(mass_crop, flip_im_array)] += 1\n",
    "        # 180%\n",
    "        im_array = numpy.rot90(im_array)\n",
    "        if not (mass_crop == im_array).all(-1).all(-1).all(-1).any():\n",
    "            mass_crop = numpy.append(mass_crop , [im_array], 0)\n",
    "            mass_crop_periods = numpy.append(mass_crop_periods, [1])\n",
    "        else:\n",
    "            mass_crop_periods[indexTile(mass_crop, im_array)] += 1\n",
    "        # flip\n",
    "        flip_im_array = numpy.flip(im_array, 0)\n",
    "        if not (mass_crop == flip_im_array).all(-1).all(-1).all(-1).any():\n",
    "            mass_crop = numpy.append(mass_crop , [flip_im_array], 0)\n",
    "            mass_crop_periods = numpy.append(mass_crop_periods, [1])\n",
    "        else:\n",
    "            mass_crop_periods[indexTile(mass_crop, flip_im_array)] += 1\n",
    "        # 270%\n",
    "        im_array = numpy.rot90(im_array)\n",
    "        if not (mass_crop == im_array).all(-1).all(-1).all(-1).any():\n",
    "            mass_crop = numpy.append(mass_crop , [im_array], 0)\n",
    "            mass_crop_periods = numpy.append(mass_crop_periods, [1])\n",
    "        else:\n",
    "            mass_crop_periods[indexTile(mass_crop, im_array)] += 1\n",
    "        # flip\n",
    "        flip_im_array = numpy.flip(im_array, 0)\n",
    "        if not (mass_crop == flip_im_array).all(-1).all(-1).all(-1).any():\n",
    "            mass_crop = numpy.append(mass_crop , [flip_im_array], 0)\n",
    "            mass_crop_periods = numpy.append(mass_crop_periods, [1])\n",
    "        else:\n",
    "            mass_crop_periods[indexTile(mass_crop, flip_im_array)] += 1"
   ]
  },
  {
   "cell_type": "code",
   "execution_count": 63,
   "metadata": {},
   "outputs": [
    {
     "data": {
      "image/png": "[encoded data removed]",
      "text/plain": [
       "<Figure size 1440x1440 with 266 Axes>"
      ]
     },
     "metadata": {},
     "output_type": "display_data"
    }
   ],
   "source": [
    "plt.figure(figsize=(2*scale, 2*scale))\n",
    "for i in range(28*28):\n",
    "    if i == len(mass_crop):\n",
    "        break\n",
    "    plt.subplot(28, 28, i+1)\n",
    "    plt.xticks([])\n",
    "    plt.yticks([])\n",
    "    plt.imshow(mass_crop[i])"
   ]
  },
  {
   "cell_type": "code",
   "execution_count": 64,
   "metadata": {},
   "outputs": [],
   "source": [
    "new_image_array = numpy.zeros((size[0], size[1], 3), int)\n",
    "crop_im = first_image.crop((old_map_start[0], old_map_start[1], old_map_start[0] + step_im, old_map_start[1] + step_im))\n",
    "im_array = numpy.array(crop_im, dtype=int)[:, :, 0:3]\n",
    "index_tile = indexTile(mass_crop, im_array)\n"
   ]
  },
  {
   "cell_type": "code",
   "execution_count": 65,
   "metadata": {
    "scrolled": false
   },
   "outputs": [
    {
     "data": {
      "image/png": "[encoded data removed]",
      "text/plain": [
       "<Figure size 180x180 with 1 Axes>"
      ]
     },
     "metadata": {},
     "output_type": "display_data"
    }
   ],
   "source": [
    "plt.figure(figsize=(scale/4, scale/4))\n",
    "for i in range(1):\n",
    "    plt.xticks([])\n",
    "    plt.yticks([])\n",
    "    plt.imshow(im_array)"
   ]
  },
  {
   "cell_type": "code",
   "execution_count": 66,
   "metadata": {},
   "outputs": [],
   "source": [
    "mytile = TileCouple(mass_crop)"
   ]
  },
  {
   "cell_type": "code",
   "execution_count": null,
   "metadata": {},
   "outputs": [
    {
     "name": "stdout",
     "output_type": "stream",
     "text": [
      " 48384 1  %"
     ]
    }
   ],
   "source": [
    "point_array = [[[] for i in range(size[0])] for i2 in range(size[1])]\n",
    "point_array[startpix[0]][startpix[1]] = [index_tile]\n",
    "\n",
    "i = 0\n",
    "steck_new = []\n",
    "steck_prew = [startpix]\n",
    "\n",
    "while i < size[0] * size[1]:\n",
    "    step_iteration = steck_prew.pop()\n",
    "    new_steps = step4(step_iteration[0], step_iteration[1],\n",
    "                    size[0], size[1])\n",
    "    area_tile = []\n",
    "    for i2 in new_steps:\n",
    "        if point_array[i2[0]][i2[1]] == [] and i2 not in steck_new:\n",
    "            steck_new.append(i2)\n",
    "            area_tile.append([-1])\n",
    "        elif point_array[i2[0]][i2[1]] == []:\n",
    "            area_tile.append([-1])\n",
    "        else:\n",
    "            area_tile.append(point_array[i2[0]][i2[1]])\n",
    "    tile_can_be = set()\n",
    "    \n",
    "\n",
    "    print (\"\\r\",\n",
    "           len(area_tile[0]) * len(area_tile[1]) * len(area_tile[2]) * len(area_tile[3]),\n",
    "           (i * 100) // 2550, \" %\", end=\"\")\n",
    "\n",
    "    if point_array[step_iteration[0]][step_iteration[1]] == []:\n",
    "        for i2 in area_tile[0]:\n",
    "            for i3 in area_tile[1]:\n",
    "                for i4 in area_tile[2]:\n",
    "                    for i5 in area_tile[3]:\n",
    "                        for i6 in mytile.search(i2, i3, i4, i5):\n",
    "                            tile_can_be.add(i6)\n",
    "        if len(tile_can_be) == len(mass_crop):\n",
    "            point_array[step_iteration[0]][step_iteration[1]] = [-1]\n",
    "        else:\n",
    "            point_array[step_iteration[0]][step_iteration[1]] = list(tile_can_be)\n",
    "    if len(steck_prew) == 0:\n",
    "        steck_prew = steck_new\n",
    "        steck_new = []\n",
    "    i += 1"
   ]
  },
  {
   "cell_type": "code",
   "execution_count": 54,
   "metadata": {},
   "outputs": [],
   "source": [
    "# Painting\n",
    "for i in range(size[0]):\n",
    "    for i2 in range(size[1]):\n",
    "        sum_color = 0\n",
    "        for i3 in point_array[i][i2]:\n",
    "            sum_color += mass_crop[i3,1,1]\n",
    "        sum_color //= len(point_array[i][i2])\n",
    "        new_image_array[i2,i] = sum_color"
   ]
  },
  {
   "cell_type": "code",
   "execution_count": 55,
   "metadata": {},
   "outputs": [
    {
     "data": {
      "text/plain": [
       "<matplotlib.image.AxesImage at 0x7f5110bb7b50>"
      ]
     },
     "execution_count": 55,
     "metadata": {},
     "output_type": "execute_result"
    },
    {
     "data": {
      "image/png": "[encoded data removed]",
      "text/plain": [
       "<Figure size 720x720 with 1 Axes>"
      ]
     },
     "metadata": {},
     "output_type": "display_data"
    }
   ],
   "source": [
    "plt.figure(figsize=(scale, scale))\n",
    "plt.xticks([])\n",
    "plt.yticks([])\n",
    "plt.imshow(new_image_array)"
   ]
  },
  {
   "cell_type": "code",
   "execution_count": null,
   "metadata": {},
   "outputs": [],
   "source": []
  }
 ],
 "metadata": {
  "kernelspec": {
   "display_name": "Python 3",
   "language": "python",
   "name": "python3"
  },
  "language_info": {
   "codemirror_mode": {
    "name": "ipython",
    "version": 3
   },
   "file_extension": ".py",
   "mimetype": "text/x-python",
   "name": "python",
   "nbconvert_exporter": "python",
   "pygments_lexer": "ipython3",
   "version": "3.7.6"
  }
 },
 "nbformat": 4,
 "nbformat_minor": 4
}
