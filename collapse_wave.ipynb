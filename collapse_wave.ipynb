{
 "cells": [
  {
   "cell_type": "code",
   "execution_count": null,
   "metadata": {},
   "outputs": [],
   "source": [
    "from PIL import Image\n",
    "import numpy\n",
    "import matplotlib.pyplot as plt\n",
    "import random"
   ]
  },
  {
   "cell_type": "code",
   "execution_count": null,
   "metadata": {},
   "outputs": [],
   "source": [
    "#Tile setings\n",
    "name_image = \"data/mini.png\"\n",
    "first_image = Image.open(name_image)\n",
    "scale = 10\n",
    "step_im = 3\n",
    "lpr = 0\n",
    "tpb = 0\n",
    "\n",
    "#New image setings\n",
    "name = \"NewImage{}.png\"\n",
    "size = [50, 50] # y, x\n",
    "startpix = [step_im // 2, size[0] - (step_im + 1) // 2] # y, x\n",
    "old_map_start = [0, first_image.size[1] - step_im]"
   ]
  },
  {
   "cell_type": "code",
   "execution_count": null,
   "metadata": {},
   "outputs": [],
   "source": [
    "def indexTile(np_array1,\n",
    "               np_array2):\n",
    "    return list((np_array1 == np_array2).all(-1).all(-1).all(-1)).index(True)"
   ]
  },
  {
   "cell_type": "code",
   "execution_count": null,
   "metadata": {},
   "outputs": [],
   "source": [
    "class TileCouple:\n",
    "    def __init__(self, tiles):\n",
    "        self.tiles = tiles\n",
    "        self.tile_count = len(tiles)\n",
    "        self.tile_couple = {}\n",
    "    \n",
    "    def search(self,\n",
    "               left_tile = -1,\n",
    "               right_tile = -1,\n",
    "               bottom_tile = -1,\n",
    "               top_tile = -1):\n",
    "        if (left_tile, right_tile, bottom_tile, top_tile) in self.tile_couple:\n",
    "            return self.tile_couple[(left_tile,\n",
    "                                     right_tile,\n",
    "                                     bottom_tile,\n",
    "                                     top_tile)]\n",
    "        else:\n",
    "            return self.append(left_tile,\n",
    "                               right_tile,\n",
    "                               bottom_tile,\n",
    "                               top_tile)\n",
    "    \n",
    "    def append(self,\n",
    "               left_tile = -1,\n",
    "               right_tile = -1,\n",
    "               bottom_tile = -1,\n",
    "               top_tile = -1):\n",
    "        mask_image = numpy.zeros(self.tiles.shape[1:], int)\n",
    "        patern_image = numpy.zeros(self.tiles.shape[1:], int)\n",
    "        index_conect = []\n",
    "        for i in range(mask_image.shape[0]):\n",
    "            for i2 in range(mask_image.shape[0]):\n",
    "                if left_tile != -1 and i2 < (mask_image.shape[0] + 1) // 2:\n",
    "                    mask_image[i, i2] = [1, 1, 1]\n",
    "                    patern_image[i, i2] = self.tiles[left_tile, i, i2 + 1]\n",
    "                if right_tile != -1 and i2 >= mask_image.shape[0] // 2:\n",
    "                    mask_image[i, i2] = [1, 1, 1]\n",
    "                    patern_image[i, i2] = self.tiles[right_tile, i, i2 - 1]\n",
    "                if bottom_tile != -1 and i >= mask_image.shape[0] // 2:\n",
    "                    mask_image[i, i2] = [1, 1, 1]\n",
    "                    patern_image[i, i2] = self.tiles[bottom_tile, i - 1, i2]\n",
    "                if top_tile != -1 and i < (mask_image.shape[0] + 1) // 2:\n",
    "                    mask_image[i, i2] = [1, 1, 1]\n",
    "                    patern_image[i, i2] = self.tiles[top_tile, i + 1, i2]\n",
    "        accept_index = (self.tiles * mask_image == patern_image).all(-1).all(-1).all(-1)\n",
    "        for i in range(self.tile_count):\n",
    "            if accept_index[i]:\n",
    "                index_conect.append(i)\n",
    "        self.tile_couple[(left_tile,\n",
    "                          right_tile,\n",
    "                          bottom_tile,\n",
    "                          top_tile)] = index_conect\n",
    "        return index_conect"
   ]
  },
  {
   "cell_type": "code",
   "execution_count": null,
   "metadata": {},
   "outputs": [],
   "source": [
    "class Tile:\n",
    "    def __init__(self):\n",
    "        self.tile = []\n",
    "        self.tile_couple = []\n",
    "        self.tile.append(-1)\n",
    "        self.tile_couple.append([[0]])\n",
    "    \n",
    "    def append(self, tile_set,\n",
    "               left_tile= -1,\n",
    "               right_tile= -1,\n",
    "               bottom_tile= -1,\n",
    "               top_tile= -1):\n",
    "        pass"
   ]
  },
  {
   "cell_type": "code",
   "execution_count": null,
   "metadata": {},
   "outputs": [],
   "source": [
    "plt.figure(figsize=(scale, scale))\n",
    "for i in range(1):\n",
    "    plt.xticks([])\n",
    "    plt.yticks([])\n",
    "    plt.imshow(first_image)\n",
    "print(first_image.size)"
   ]
  },
  {
   "cell_type": "code",
   "execution_count": null,
   "metadata": {},
   "outputs": [],
   "source": [
    "mass_crop_periods = numpy.array([0] ,int)\n",
    "mass_crop = numpy.dtype(int)\n",
    "\n",
    "for i in range(first_image.size[1] - (step_im - 1) * tpb):\n",
    "    for i2 in range(first_image.size[0] - (step_im - 1) * lpr):\n",
    "        crop_im = first_image.crop((i2, i, (i2 + step_im), (i + step_im)))\n",
    "        im_array = numpy.array(crop_im, dtype=int)[:, :, 0:3]\n",
    "        # first part\n",
    "        if mass_crop is numpy.dtype(int):\n",
    "            mass_crop = numpy.array([im_array])\n",
    "        \n",
    "        # left + right\n",
    "        if i2 + step_im > first_image.size[0]:\n",
    "            mask_lp = numpy.zeros((step_im, first_image.size[0] - i2, 3) ,int)\n",
    "            crop_im = first_image.crop((0, i, i2 + step_im - first_image.size[0], (i + step_im)))\n",
    "            mask_lp = numpy.append(mask_lp, numpy.array(crop_im, dtype=int)[:, :, 0:3], 1)\n",
    "            im_array += mask_lp\n",
    "        # top + bottom\n",
    "        if i + step_im > first_image.size[1]:\n",
    "            mask_tp = numpy.zeros((first_image.size[1] - i, step_im , 3) ,int)\n",
    "            crop_im = first_image.crop((i2, 0, (i2 + step_im), i + step_im - first_image.size[1]))\n",
    "            mask_tp = numpy.append(mask_tp, numpy.array(crop_im, dtype=int)[:, :, 0:3], 0)\n",
    "            im_array += mask_tp\n",
    "        # t+b & l+r\n",
    "        if i + step_im > first_image.size[1] and i2 + step_im > first_image.size[0]:\n",
    "            mask_lp = numpy.zeros((i + step_im - first_image.size[1], first_image.size[0] - i2, 3) ,int)\n",
    "            mask_tp = numpy.zeros((first_image.size[1] - i, step_im , 3) ,int)\n",
    "            crop_im = first_image.crop((0, 0, i2 + step_im - first_image.size[0], i + step_im - first_image.size[1]))\n",
    "            mask_lp = numpy.append(mask_lp, numpy.array(crop_im, dtype=int)[:, :, 0:3], 1)\n",
    "            mask_tp = numpy.append(mask_tp, mask_lp, 0)\n",
    "            im_array += mask_tp\n",
    "        \n",
    "        # 0%\n",
    "        if not (mass_crop == im_array).all(-1).all(-1).all(-1).any():\n",
    "            mass_crop = numpy.append(mass_crop , [im_array], 0)\n",
    "            mass_crop_periods = numpy.append(mass_crop_periods, [1])\n",
    "        else:\n",
    "            mass_crop_periods[indexTile(mass_crop, im_array)] += 1\n",
    "        # flip            \n",
    "        flip_im_array = numpy.flip(im_array, 0)\n",
    "        if not (mass_crop == flip_im_array).all(-1).all(-1).all(-1).any():\n",
    "            mass_crop = numpy.append(mass_crop , [flip_im_array], 0)\n",
    "            mass_crop_periods = numpy.append(mass_crop_periods, [1])\n",
    "        else:\n",
    "            mass_crop_periods[indexTile(mass_crop, flip_im_array)] += 1\n",
    "        # 90%\n",
    "        im_array = numpy.rot90(im_array)\n",
    "        if not (mass_crop == im_array).all(-1).all(-1).all(-1).any():\n",
    "            mass_crop = numpy.append(mass_crop , [im_array], 0)\n",
    "            mass_crop_periods = numpy.append(mass_crop_periods, [1])\n",
    "        else:\n",
    "            mass_crop_periods[indexTile(mass_crop, im_array)] += 1\n",
    "        # flip\n",
    "        flip_im_array = numpy.flip(im_array, 0)\n",
    "        if not (mass_crop == flip_im_array).all(-1).all(-1).all(-1).any():\n",
    "            mass_crop = numpy.append(mass_crop , [flip_im_array], 0)\n",
    "            mass_crop_periods = numpy.append(mass_crop_periods, [1])\n",
    "        else:\n",
    "            mass_crop_periods[indexTile(mass_crop, flip_im_array)] += 1\n",
    "        # 180%\n",
    "        im_array = numpy.rot90(im_array)\n",
    "        if not (mass_crop == im_array).all(-1).all(-1).all(-1).any():\n",
    "            mass_crop = numpy.append(mass_crop , [im_array], 0)\n",
    "            mass_crop_periods = numpy.append(mass_crop_periods, [1])\n",
    "        else:\n",
    "            mass_crop_periods[indexTile(mass_crop, im_array)] += 1\n",
    "        # flip\n",
    "        flip_im_array = numpy.flip(im_array, 0)\n",
    "        if not (mass_crop == flip_im_array).all(-1).all(-1).all(-1).any():\n",
    "            mass_crop = numpy.append(mass_crop , [flip_im_array], 0)\n",
    "            mass_crop_periods = numpy.append(mass_crop_periods, [1])\n",
    "        else:\n",
    "            mass_crop_periods[indexTile(mass_crop, flip_im_array)] += 1\n",
    "        # 270%\n",
    "        im_array = numpy.rot90(im_array)\n",
    "        if not (mass_crop == im_array).all(-1).all(-1).all(-1).any():\n",
    "            mass_crop = numpy.append(mass_crop , [im_array], 0)\n",
    "            mass_crop_periods = numpy.append(mass_crop_periods, [1])\n",
    "        else:\n",
    "            mass_crop_periods[indexTile(mass_crop, im_array)] += 1\n",
    "        # flip\n",
    "        flip_im_array = numpy.flip(im_array, 0)\n",
    "        if not (mass_crop == flip_im_array).all(-1).all(-1).all(-1).any():\n",
    "            mass_crop = numpy.append(mass_crop , [flip_im_array], 0)\n",
    "            mass_crop_periods = numpy.append(mass_crop_periods, [1])\n",
    "        else:\n",
    "            mass_crop_periods[indexTile(mass_crop, flip_im_array)] += 1"
   ]
  },
  {
   "cell_type": "code",
   "execution_count": null,
   "metadata": {},
   "outputs": [],
   "source": [
    "plt.figure(figsize=(2*scale, 2*scale))\n",
    "for i in range(28*28):\n",
    "    if i == len(mass_crop):\n",
    "        break\n",
    "    plt.subplot(28, 28, i+1)\n",
    "    plt.xticks([])\n",
    "    plt.yticks([])\n",
    "    plt.imshow(mass_crop[i])"
   ]
  },
  {
   "cell_type": "code",
   "execution_count": null,
   "metadata": {},
   "outputs": [],
   "source": [
    "new_image_array = numpy.zeros((size[0], size[1], 3), int)\n",
    "point_array = numpy.zeros((size[0], size[1]), bool)\n",
    "crop_im = first_image.crop((old_map_start[0], old_map_start[1], old_map_start[0] + step_im, old_map_start[1] + step_im))\n",
    "im_array = numpy.array(crop_im, dtype=int)[:, :, 0:3]\n",
    "index_tile = indexTile(mass_crop, im_array)\n"
   ]
  },
  {
   "cell_type": "code",
   "execution_count": null,
   "metadata": {
    "scrolled": false
   },
   "outputs": [],
   "source": [
    "plt.figure(figsize=(scale/4, scale/4))\n",
    "for i in range(1):\n",
    "    plt.xticks([])\n",
    "    plt.yticks([])\n",
    "    plt.imshow(im_array)"
   ]
  },
  {
   "cell_type": "code",
   "execution_count": null,
   "metadata": {},
   "outputs": [],
   "source": [
    "mytile = TileCouple(mass_crop)"
   ]
  },
  {
   "cell_type": "code",
   "execution_count": null,
   "metadata": {},
   "outputs": [],
   "source": [
    "i = 0\n",
    "steck_new = []\n",
    "steck_prew = [startpix]\n",
    "    \n",
    "while i < size[0] * size[1]:\n",
    "    step_iteration = steck_prew.pop()\n",
    "    if not point_array[step_iteration[0],\n",
    "                       step_iteration[1]]:\n",
    "        print(step_iteration)\n",
    "        break\n",
    "    i += 1\n",
    "    "
   ]
  },
  {
   "cell_type": "code",
   "execution_count": null,
   "metadata": {},
   "outputs": [],
   "source": [
    "# Painting\n"
   ]
  },
  {
   "cell_type": "code",
   "execution_count": null,
   "metadata": {},
   "outputs": [],
   "source": [
    "plt.figure(figsize=(scale, scale))\n",
    "plt.xticks([])\n",
    "plt.yticks([])\n",
    "plt.imshow(new_image_array)"
   ]
  },
  {
   "cell_type": "code",
   "execution_count": null,
   "metadata": {},
   "outputs": [],
   "source": []
  }
 ],
 "metadata": {
  "kernelspec": {
   "display_name": "Python 3",
   "language": "python",
   "name": "python3"
  },
  "language_info": {
   "codemirror_mode": {
    "name": "ipython",
    "version": 3
   },
   "file_extension": ".py",
   "mimetype": "text/x-python",
   "name": "python",
   "nbconvert_exporter": "python",
   "pygments_lexer": "ipython3",
   "version": "3.7.6"
  }
 },
 "nbformat": 4,
 "nbformat_minor": 4
}
